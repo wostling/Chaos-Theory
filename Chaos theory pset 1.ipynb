{
 "cells": [
  {
   "cell_type": "code",
   "execution_count": 26,
   "id": "64f27b45",
   "metadata": {},
   "outputs": [],
   "source": [
    "import pandas as pd\n",
    "import matplotlib.pyplot as plt\n",
    "import numpy as np\n",
    "from sklearn.metrics import r2_score\n",
    "%matplotlib inline"
   ]
  },
  {
   "cell_type": "code",
   "execution_count": 27,
   "id": "62b0edc6",
   "metadata": {},
   "outputs": [],
   "source": [
    "#see when function reaches a value range\n",
    "seed = 100\n",
    "fixed_point = 10\n",
    "iteration=0\n",
    "num=seed\n",
    "\n",
    "while abs(fixed_point-num)>0.001:\n",
    "    iteration+=1\n",
    "    num = .9*(num) + 1\n"
   ]
  },
  {
   "cell_type": "code",
   "execution_count": null,
   "id": "febf6381",
   "metadata": {},
   "outputs": [],
   "source": []
  },
  {
   "cell_type": "code",
   "execution_count": 28,
   "id": "5f049905",
   "metadata": {},
   "outputs": [
    {
     "data": {
      "text/plain": [
       "109"
      ]
     },
     "execution_count": 28,
     "metadata": {},
     "output_type": "execute_result"
    }
   ],
   "source": [
    "iteration"
   ]
  },
  {
   "cell_type": "code",
   "execution_count": 34,
   "id": "2f88ec5b",
   "metadata": {},
   "outputs": [],
   "source": [
    "#challengibng problem 2\n",
    "def absv(iterations,seed):\n",
    "    orbit=[]\n",
    "    for char in range(iterations):\n",
    "        orbit.append(seed)\n",
    "        seed= abs(seed-2)\n",
    "    return orbit"
   ]
  },
  {
   "cell_type": "code",
   "execution_count": 39,
   "id": "f2f5cf6d",
   "metadata": {},
   "outputs": [
    {
     "data": {
      "text/plain": [
       "[-3.5, 5.5, 3.5, 1.5, 0.5, 1.5, 0.5, 1.5, 0.5, 1.5]"
      ]
     },
     "execution_count": 39,
     "metadata": {},
     "output_type": "execute_result"
    }
   ],
   "source": [
    "absv(10,-3.5\n",
    "    )"
   ]
  },
  {
   "cell_type": "code",
   "execution_count": 30,
   "id": "af1a7e54",
   "metadata": {},
   "outputs": [],
   "source": [
    "def iterator(a,b,seed,iterations):\n",
    "    list_orbit = []\n",
    "    iter_number=[]\n",
    "    def func(x):\n",
    "        return a*x + b\n",
    "    for char in range(iterations):\n",
    "        list_orbit.append(func(seed))\n",
    "        seed=func(seed)\n",
    "        iter_number.append(char)\n",
    "    df = pd.DataFrame({'Orbit' : list_orbit, 'Iteration Number' : iter_number}) \n",
    "    c = plt.scatter(iter_number, list_orbit)\n",
    "    return df"
   ]
  },
  {
   "cell_type": "code",
   "execution_count": 31,
   "id": "e12f8afa",
   "metadata": {},
   "outputs": [
    {
     "data": {
      "image/png": "[encoded data removed]",
      "text/plain": [
       "<Figure size 432x288 with 1 Axes>"
      ]
     },
     "metadata": {
      "needs_background": "light"
     },
     "output_type": "display_data"
    }
   ],
   "source": [
    "iterator(.5,3,15,20)"
   ]
  }
 ],
 "metadata": {
  "kernelspec": {
   "display_name": "Python 3",
   "language": "python",
   "name": "python3"
  },
  "language_info": {
   "codemirror_mode": {
    "name": "ipython",
    "version": 3
   },
   "file_extension": ".py",
   "mimetype": "text/x-python",
   "name": "python",
   "nbconvert_exporter": "python",
   "pygments_lexer": "ipython3",
   "version": "3.8.8"
  }
 },
 "nbformat": 4,
 "nbformat_minor": 5
}
