{
 "cells": [
  {
   "cell_type": "code",
   "execution_count": 45,
   "id": "e4168565",
   "metadata": {},
   "outputs": [],
   "source": [
    "import pygame\n",
    "import random\n",
    "import math\n",
    "import colorsys\n",
    "from pygame.locals import *\n",
    "import matplotlib.pyplot as plt\n",
    "\n",
    "idx = [0, 0, 0] #global variable index - the index of last two selected polygon corner points, to limit neighbors"
   ]
  },
  {
   "cell_type": "code",
   "execution_count": 46,
   "id": "065173b0",
   "metadata": {},
   "outputs": [],
   "source": [
    "#colorscheme from here: https://beltoforion.de/en/recreational_mathematics/chaos_game.php\n",
    "#remember for future use! rainbow patter is cool for hydrodynamical stuff"
   ]
  },
  {
   "cell_type": "code",
   "execution_count": 64,
   "id": "efd08e38",
   "metadata": {},
   "outputs": [],
   "source": [
    "def mark_pixel(surface, pos, pcol):\n",
    "    #takes in a pygame surface, a position, and a color\n",
    "    #each vertex is given a point on the color wheel\n",
    "    #each point is given a color based on the vertex of target corner point\n",
    "    #if colors fall on each other, addative using pygame add\n",
    "    col = surface.get_at(pos) #originally, colors do not exsist (nan) and are plottes as black\n",
    "    surface.set_at(pos, (min(col[0] + pcol[0]/8, 255),\n",
    "                         min(col[1] + pcol[1]/9, 255),\n",
    "                         min(col[2] + pcol[2]/10, 255)))\n",
    "    #this sets the color as the minimum of white (255) and the original color plus 1/x the color of the target vertex\n",
    "    #this works because even though the points won't touch, they overlap on pixels\n",
    "    #change colors for cool rgb values"
   ]
  },
  {
   "cell_type": "code",
   "execution_count": 65,
   "id": "4ea1a15f",
   "metadata": {},
   "outputs": [],
   "source": [
    "def random_point_index(p):\n",
    "    #next point cannont be a neighbor of chosen point, otherwise chosen randomly\n",
    "    global idx #get gloabl variable!!!!!!\n",
    "    idx[2] = idx[1]#shift things along the list\n",
    "    idx[1] = idx[0] #same here\n",
    "    dst1 = abs(idx[1] - idx[2]) #this should be non-zero so that these two indexes are not the same!\n",
    "\n",
    "    while True:\n",
    "        idx[0] = random.randint(0, len(p) - 1)  # Purely random selection, the rest is just applying constraints\n",
    "        dst = abs(idx[0] - idx[1]) #just distance between the points - if dst==0, then this is the same point!\n",
    "        if dst1 == 0 and (dst == 1 or dst == len(p) - 1): \n",
    "            #first case takes care of the initial (0,0). the rest makes sure that the next vertex is not directly\n",
    "            #before or after\n",
    "            continue #if bad, then get a new number\n",
    "        else:\n",
    "            break #if good, then give the number!\n",
    "\n",
    "    return idx[0]"
   ]
  },
  {
   "cell_type": "code",
   "execution_count": 66,
   "id": "89d2a3c9",
   "metadata": {},
   "outputs": [],
   "source": [
    "def init_polygon(width, height, n):\n",
    "    \n",
    "    #looked this math up lol\n",
    "    delta_angle = 360/n\n",
    "    r = width/2 - 10\n",
    "    \n",
    "    p = []\n",
    "\n",
    "    for i in range(0, n):\n",
    "        \n",
    "        angle = (180 + i*delta_angle) * math.pi / 180\n",
    "        #just gives color wheel - thanks google! lol\n",
    "        color = colorsys.hsv_to_rgb((i*delta_angle)/360, 0.8, 1)\n",
    "        \n",
    "        p.append(((width/2 + r*math.sin(angle),\n",
    "                   height/2 + r*math.cos(angle)),\n",
    "                  (int(color[0]*255), int(color[1]*255), int(color[2]*255)))) #appens ((x,y),hsvcolorcoords)\n",
    "    return p"
   ]
  },
  {
   "cell_type": "code",
   "execution_count": 67,
   "id": "bb00e70a",
   "metadata": {},
   "outputs": [],
   "source": [
    "def main(width, height, n, r):\n",
    "    pygame.init()\n",
    "    surface = pygame.display.set_mode((width, height))\n",
    "    #create pixelxpixel surface\n",
    "\n",
    "    p = init_polygon(width, height, n)\n",
    "    #creates pixel coords for the polygon\n",
    "\n",
    "    x, y = (100, 100)\n",
    "    for i in range(0, width*height*15): #change the 3 for lots of fun\n",
    "        i = random_point_index(p) #gives the index of the next point\n",
    "        x += (p[i][0][0] - x) * r #gets x coord from x and then adds by scaled value. if r-.5 then halfway game\n",
    "        y += (p[i][0][1] - y) * r #same here yay\n",
    "        #r should be #n/(n+3)\n",
    "\n",
    "        mark_pixel(surface, (int(x), int(y)), p[i][1]) #marks pixel with color (updated!)\n",
    "        #int is so we dont get half pixels\n",
    "        if i % 100 == 0:\n",
    "            pygame.display.update()\n",
    "            \n",
    "            \n",
    "        #so my computer doesn't die when help\n",
    "        for event in pygame.event.get():\n",
    "            if event.type == QUIT:\n",
    "                pygame.quit()\n",
    "                return\n",
    "\n",
    "    pygame.quit()\n"
   ]
  },
  {
   "cell_type": "code",
   "execution_count": null,
   "id": "e6d72b35",
   "metadata": {},
   "outputs": [],
   "source": [
    "# if __name__ == \"__main__\": #just to make sure lol\n",
    "main(1000, 1000, 7, .5)"
   ]
  }
 ],
 "metadata": {
  "kernelspec": {
   "display_name": "Python 3",
   "language": "python",
   "name": "python3"
  },
  "language_info": {
   "codemirror_mode": {
    "name": "ipython",
    "version": 3
   },
   "file_extension": ".py",
   "mimetype": "text/x-python",
   "name": "python",
   "nbconvert_exporter": "python",
   "pygments_lexer": "ipython3",
   "version": "3.8.8"
  }
 },
 "nbformat": 4,
 "nbformat_minor": 5
}
