{
 "cells": [
  {
   "cell_type": "code",
   "execution_count": 21,
   "id": "f5869ee6",
   "metadata": {},
   "outputs": [],
   "source": [
    "import numpy as np\n",
    "import matplotlib.pyplot as plt\n",
    "import math\n",
    "%matplotlib qt"
   ]
  },
  {
   "cell_type": "code",
   "execution_count": 23,
   "id": "238ecc22",
   "metadata": {},
   "outputs": [],
   "source": [
    "def iterate(X,Y, iterations):\n",
    "    xlist = []\n",
    "    ylist = []\n",
    "    overall_list = []\n",
    "    c = []\n",
    "    for x in range(iterations):\n",
    "        X_new = Y + 1 - .9*x**2\n",
    "        Y_new = 0.3*X\n",
    "        point = (X_new, Y_new)\n",
    "        overall_list.append(point)\n",
    "        xlist.append(X_new)\n",
    "        ylist.append(Y_new)\n",
    "        X=X_new\n",
    "        Y=Y_new\n",
    "        c.append(x)\n",
    "    return xlist, ylist, overall_list, c\n",
    "        \n",
    "        \n",
    "    "
   ]
  },
  {
   "cell_type": "code",
   "execution_count": 24,
   "id": "1d923a5e",
   "metadata": {},
   "outputs": [],
   "source": [
    "(x,y,overall, color) = iterate(.2,.4,10)"
   ]
  },
  {
   "cell_type": "code",
   "execution_count": 25,
   "id": "5d81819f",
   "metadata": {},
   "outputs": [
    {
     "data": {
      "text/plain": [
       "<matplotlib.collections.PathCollection at 0x2b141d175e0>"
      ]
     },
     "execution_count": 25,
     "metadata": {},
     "output_type": "execute_result"
    }
   ],
   "source": [
    "plt.scatter(x,y, c=color)\n",
    "plt.colorbar()"
   ]
  }
 ],
 "metadata": {
  "kernelspec": {
   "display_name": "Python 3",
   "language": "python",
   "name": "python3"
  },
  "language_info": {
   "codemirror_mode": {
    "name": "ipython",
    "version": 3
   },
   "file_extension": ".py",
   "mimetype": "text/x-python",
   "name": "python",
   "nbconvert_exporter": "python",
   "pygments_lexer": "ipython3",
   "version": "3.8.8"
  }
 },
 "nbformat": 4,
 "nbformat_minor": 5
}
