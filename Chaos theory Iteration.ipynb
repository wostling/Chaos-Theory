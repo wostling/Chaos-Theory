{
 "cells": [
  {
   "cell_type": "code",
   "execution_count": 21,
   "id": "a78393b3",
   "metadata": {},
   "outputs": [],
   "source": [
    "import numpy as np\n",
    "import matplotlib.pyplot as plt\n",
    "import math\n",
    "%matplotlib qt"
   ]
  },
  {
   "cell_type": "code",
   "execution_count": 32,
   "id": "40e0bb99",
   "metadata": {},
   "outputs": [],
   "source": [
    "def iterate(X,Y, iterations):\n",
    "    xlist = []\n",
    "    ylist = []\n",
    "    overall_list = []\n",
    "    c = []\n",
    "    for i in range(iterations):\n",
    "        \n",
    "        X_new = Y + 1 - .9*X**2\n",
    "        Y_new = 0.3*X\n",
    "        \n",
    "        point = (X_new, Y_new)\n",
    "        overall_list.append(point)\n",
    "        xlist.append(X_new)\n",
    "        ylist.append(Y_new)\n",
    "        X=X_new\n",
    "        Y=Y_new\n",
    "        c.append(i)\n",
    "    return xlist, ylist, overall_list, c\n",
    "        \n",
    "        \n",
    "    "
   ]
  },
  {
   "cell_type": "code",
   "execution_count": 33,
   "id": "d73b1f65",
   "metadata": {},
   "outputs": [],
   "source": [
    "(x,y,overall, color) = iterate(.2,.4,100)"
   ]
  },
  {
   "cell_type": "code",
   "execution_count": 35,
   "id": "b0787623",
   "metadata": {},
   "outputs": [
    {
     "data": {
      "text/plain": [
       "<matplotlib.colorbar.Colorbar at 0x2b1475615b0>"
      ]
     },
     "execution_count": 35,
     "metadata": {},
     "output_type": "execute_result"
    }
   ],
   "source": [
    "plt.scatter(x,y, c=color)\n",
    "plt.colorbar()"
   ]
  }
 ],
 "metadata": {
  "kernelspec": {
   "display_name": "Python 3",
   "language": "python",
   "name": "python3"
  },
  "language_info": {
   "codemirror_mode": {
    "name": "ipython",
    "version": 3
   },
   "file_extension": ".py",
   "mimetype": "text/x-python",
   "name": "python",
   "nbconvert_exporter": "python",
   "pygments_lexer": "ipython3",
   "version": "3.8.8"
  }
 },
 "nbformat": 4,
 "nbformat_minor": 5
}
