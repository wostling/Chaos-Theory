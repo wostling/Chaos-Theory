{
 "cells": [
  {
   "cell_type": "code",
   "execution_count": 1,
   "id": "afb4ae99",
   "metadata": {},
   "outputs": [],
   "source": [
    "import numpy as np\n",
    "import matplotlib.pyplot as plt\n",
    "import math\n",
    "%matplotlib qt"
   ]
  },
  {
   "cell_type": "code",
   "execution_count": 10,
   "id": "f90068c6",
   "metadata": {},
   "outputs": [],
   "source": [
    "#optimized\n",
    "\n",
    "import numpy as np\n",
    "import matplotlib.pyplot as plt\n",
    "import matplotlib.cm as cm\n",
    "import matplotlib.colors as colors\n",
    "\n",
    "%matplotlib qt\n",
    "\n",
    "def julia_set2(h_range, w_range, max_iterations, a):\n",
    "    ''' A function to determine the values of the Julia set. Takes\n",
    "    an array size specified by h_range and w_range, in pixels, along\n",
    "    with the number of maximum iterations to try.  Returns an array with \n",
    "    the number of the last bounded iteration at each array value.\n",
    "    '''\n",
    "    \n",
    "    #https://blbadger.github.io/julia-sets.html\n",
    "    # top left to bottom right\n",
    "    #y, x = np.ogrid[.3: -.3: h_range*1j, -.3: .3 : w_range*1j]\n",
    "    y, x = np.ogrid[1.6: -1.6: h_range*1j, -1.6: 1.6: w_range*1j]\n",
    "    z_array = x + y*1j\n",
    "    a = -0.744 + 0.14j\n",
    "    b = +.49285 + -.37265j\n",
    "    c = 0 + 1j\n",
    "    d = .05 - .723j\n",
    "    e = .581 -.534j\n",
    "    iterations_until_divergence = max_iterations + np.zeros(z_array.shape)\n",
    "\n",
    "    # create array of all True\n",
    "    not_already_diverged = iterations_until_divergence < 10000\n",
    "\n",
    "    # creat array of all False\n",
    "    diverged_in_past = iterations_until_divergence > 10000\n",
    "    \n",
    "    for i in range(max_iterations):\n",
    "        z_array = z_array**5 + a*(z_array**4) + b*(z_array**3) + c*(z_array**2) + d*z_array + e\n",
    "        \n",
    "        z_size_array = z_array * np.conj(z_array)\n",
    "        diverging = z_size_array >7\n",
    "\n",
    "        diverging_now = diverging & not_already_diverged\n",
    "        iterations_until_divergence[diverging_now] = i\n",
    "    \n",
    "        not_already_diverged = np.invert(diverging_now) & not_already_diverged\n",
    "        \n",
    "        diverged_in_past = diverged_in_past | diverging_now\n",
    "        z_array[diverged_in_past] = 0\n",
    "    return iterations_until_divergence\n",
    "\n",
    "\n",
    "q=julia_set2(1000, 1000, 120, 0 + 0.8j)\n",
    "#q=julia_set2(5000, 5000, 400, -0.54 + 0.54j)\n",
    "#q=julia_set2(1000, 1000, 270, -.1 -.882j)\n",
    "#q=julia_set2(1000, 1000, 270, -.6 +.45j)\n",
    "#q=julia_set2(1000, 1000, 270, -.72j)\n",
    "plt.imshow(q, cmap='magma', norm=colors.LogNorm())\n",
    "plt.axis('off')\n",
    "plt.show()\n"
   ]
  },
  {
   "cell_type": "code",
   "execution_count": null,
   "id": "d77ced50",
   "metadata": {},
   "outputs": [],
   "source": []
  },
  {
   "cell_type": "code",
   "execution_count": null,
   "id": "6976455b",
   "metadata": {},
   "outputs": [],
   "source": []
  },
  {
   "cell_type": "code",
   "execution_count": null,
   "id": "a2b6bbb8",
   "metadata": {},
   "outputs": [],
   "source": []
  },
  {
   "cell_type": "code",
   "execution_count": null,
   "id": "845a1ab5",
   "metadata": {},
   "outputs": [],
   "source": []
  },
  {
   "cell_type": "code",
   "execution_count": null,
   "id": "0f0b3baf",
   "metadata": {},
   "outputs": [],
   "source": []
  },
  {
   "cell_type": "code",
   "execution_count": null,
   "id": "4e0cfe61",
   "metadata": {},
   "outputs": [],
   "source": []
  },
  {
   "cell_type": "code",
   "execution_count": null,
   "id": "03a331eb",
   "metadata": {},
   "outputs": [],
   "source": []
  }
 ],
 "metadata": {
  "kernelspec": {
   "display_name": "Python 3",
   "language": "python",
   "name": "python3"
  },
  "language_info": {
   "codemirror_mode": {
    "name": "ipython",
    "version": 3
   },
   "file_extension": ".py",
   "mimetype": "text/x-python",
   "name": "python",
   "nbconvert_exporter": "python",
   "pygments_lexer": "ipython3",
   "version": "3.8.8"
  }
 },
 "nbformat": 4,
 "nbformat_minor": 5
}
