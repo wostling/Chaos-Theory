{
 "cells": [
  {
   "cell_type": "code",
   "execution_count": 1,
   "id": "e79c6e5f",
   "metadata": {},
   "outputs": [],
   "source": [
    "import numpy as np\n",
    "import matplotlib.pyplot as plt\n",
    "import math\n",
    "%matplotlib qt"
   ]
  },
  {
   "cell_type": "code",
   "execution_count": 14,
   "id": "910037bf",
   "metadata": {},
   "outputs": [],
   "source": [
    "def fern(iterations):\n",
    "    input_matrix = [[0],[0]]\n",
    "    xlist = [0]\n",
    "    ylist = [0]\n",
    "    for char in range(iterations):\n",
    "        num = np.random.randint(0,101)\n",
    "        A = [[0,0],\n",
    "             [0,0.16]]\n",
    "        B = [[0.84, 0.04],\n",
    "             [-.04, 0.85]]\n",
    "        C = [[0],\n",
    "             [1.6]]\n",
    "        D = [[0.2, -0.26],\n",
    "             [0.23, 0.22]]\n",
    "        E = [[0],\n",
    "             [1.6]]\n",
    "        F = [[-.15, 0.28],\n",
    "             [0.26, 0.24]]\n",
    "        if num == 1:\n",
    "            input_matrix = np.dot(A, input_matrix)\n",
    "        elif 2 <= num <=86:\n",
    "            input_matrix = np.dot(B, input_matrix) + C\n",
    "        elif 87 <= num <= 93:\n",
    "            input_matrix = np.dot(D,input_matrix) + E\n",
    "        else:\n",
    "            input_matrix = np.dot(F, input_matrix) + E\n",
    "        xlist.append(input_matrix[0][0])\n",
    "        ylist.append(input_matrix[1][0])\n",
    "    return xlist, ylist"
   ]
  },
  {
   "cell_type": "code",
   "execution_count": 13,
   "id": "af01bc7a",
   "metadata": {},
   "outputs": [
    {
     "data": {
      "text/plain": [
       "([0,\n",
       "  0.0,\n",
       "  0.064,\n",
       "  0.17216,\n",
       "  0.30915200000000004,\n",
       "  0.46326918400000006,\n",
       "  0.6256957497600001,\n",
       "  0.789910389024,\n",
       "  -1.7119116111191361,\n",
       "  -1.3034498682897817,\n",
       "  -0.9137863284928776],\n",
       " [0,\n",
       "  1.6,\n",
       "  2.96,\n",
       "  4.113440000000001,\n",
       "  5.089537600000001,\n",
       "  5.913740880000001,\n",
       "  6.608148980640001,\n",
       "  7.191898803553601,\n",
       "  3.3638971262573123,\n",
       "  4.52778902176348,\n",
       "  5.500758663230549])"
      ]
     },
     "execution_count": 13,
     "metadata": {},
     "output_type": "execute_result"
    }
   ],
   "source": [
    "x,y = fern(5000)\n",
    "plt.scatter(x,y)"
   ]
  }
 ],
 "metadata": {
  "kernelspec": {
   "display_name": "Python 3",
   "language": "python",
   "name": "python3"
  },
  "language_info": {
   "codemirror_mode": {
    "name": "ipython",
    "version": 3
   },
   "file_extension": ".py",
   "mimetype": "text/x-python",
   "name": "python",
   "nbconvert_exporter": "python",
   "pygments_lexer": "ipython3",
   "version": "3.8.8"
  }
 },
 "nbformat": 4,
 "nbformat_minor": 5
}
