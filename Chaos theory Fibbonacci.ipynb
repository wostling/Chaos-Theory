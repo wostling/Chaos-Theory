{
 "cells": [
  {
   "cell_type": "code",
   "execution_count": 49,
   "id": "954b618c",
   "metadata": {},
   "outputs": [],
   "source": [
    "import numpy as np\n",
    "import matplotlib.pyplot as plt\n",
    "import math\n",
    "import turtle\n",
    "%matplotlib qt"
   ]
  },
  {
   "cell_type": "code",
   "execution_count": 50,
   "id": "a6edc7c6",
   "metadata": {},
   "outputs": [],
   "source": [
    "\n",
    "def sequence(num):\n",
    "    s1 = str(1)\n",
    "    s2 = str(0)\n",
    "    for char in range(num-2):\n",
    "        s3 = s2 + s1\n",
    "        s1 = s2\n",
    "        s2 = s3\n",
    "    return s3\n",
    "    "
   ]
  },
  {
   "cell_type": "code",
   "execution_count": 51,
   "id": "d32e1a5a",
   "metadata": {},
   "outputs": [],
   "source": [
    "def vector_add(rotation, x, y):\n",
    "    if rotation == \"a\":\n",
    "        y = y\n",
    "        x = x+1\n",
    "    elif rotation == \"b\":\n",
    "        y = y+1\n",
    "        x = x\n",
    "    elif rotation == \"c\":\n",
    "        y = y\n",
    "        x = x-1\n",
    "    else:\n",
    "        y = y-1\n",
    "        x = x\n",
    "    return x,y"
   ]
  },
  {
   "cell_type": "code",
   "execution_count": 52,
   "id": "dea1b001",
   "metadata": {},
   "outputs": [],
   "source": [
    "s = sequence(12)"
   ]
  },
  {
   "cell_type": "code",
   "execution_count": 70,
   "id": "8f54a5fa",
   "metadata": {},
   "outputs": [
    {
     "data": {
      "text/plain": [
       "'\\n         b\\n        \\n        \\nc               a\\n\\n        d\\n'"
      ]
     },
     "execution_count": 70,
     "metadata": {},
     "output_type": "execute_result"
    }
   ],
   "source": [
    "y_list = [0, 0]\n",
    "x_list = [0, 1]\n",
    "x = 1\n",
    "y = 0\n",
    "rotation = 0\n",
    "rotation_list = [\"a\", \"b\", \"c\", \"d\"]\n",
    "for char in range(len(s)):\n",
    "    if s[char] == \"0\":\n",
    "        if (char+1)%2 == 0:\n",
    "            rotation = (rotation  + 1)%4\n",
    "            x,y = vector_add(rotation_list[rotation], x, y)\n",
    "            x_list.append(x)\n",
    "            y_list.append(y)\n",
    "        elif (char+1)%2 != 0:\n",
    "            rotation = (rotation - 1)%4\n",
    "            x,y = vector_add(rotation_list[rotation], x, y)\n",
    "            x_list.append(x)\n",
    "            y_list.append(y)\n",
    "    else:\n",
    "        x,y = vector_add(rotation_list[rotation], x, y)\n",
    "        x_list.append(x)\n",
    "        y_list.append(y)\n",
    "        \n",
    "        \n",
    "\"\"\"\n",
    "         b\n",
    "        \n",
    "        \n",
    "c               a\n",
    "\n",
    "        d\n",
    "\"\"\""
   ]
  },
  {
   "cell_type": "code",
   "execution_count": 54,
   "id": "55bfeedd",
   "metadata": {},
   "outputs": [
    {
     "data": {
      "text/plain": [
       "[<matplotlib.lines.Line2D at 0x13191a88dc0>]"
      ]
     },
     "execution_count": 54,
     "metadata": {},
     "output_type": "execute_result"
    }
   ],
   "source": [
    "plt.plot(x_list, y_list)"
   ]
  },
  {
   "cell_type": "code",
   "execution_count": 55,
   "id": "6c7d3fe6",
   "metadata": {},
   "outputs": [
    {
     "data": {
      "text/plain": [
       "0"
      ]
     },
     "execution_count": 55,
     "metadata": {},
     "output_type": "execute_result"
    }
   ],
   "source": [
    "3%1"
   ]
  },
  {
   "cell_type": "code",
   "execution_count": 68,
   "id": "5158124e",
   "metadata": {},
   "outputs": [],
   "source": [
    "n3 = \"\"\n",
    "num  = (len(s)-len(s)%2)/2\n",
    "for char in range(int(num)):\n",
    "    bit = s[(2*char):(2*char + 2)]\n",
    "    if bit == \"01\":\n",
    "        n3 = n3 + \"0\"\n",
    "    elif bit == \"00\":\n",
    "        n3 = n3 + \"1\"\n",
    "    else:\n",
    "        n3 = n3 + \"2\"\n",
    "    "
   ]
  },
  {
   "cell_type": "code",
   "execution_count": 69,
   "id": "2a971a98",
   "metadata": {},
   "outputs": [
    {
     "data": {
      "text/plain": [
       "'012201220012001200122012200120012001220122012200120012201220122001200122'"
      ]
     },
     "execution_count": 69,
     "metadata": {},
     "output_type": "execute_result"
    }
   ],
   "source": [
    "n3"
   ]
  },
  {
   "cell_type": "code",
   "execution_count": 64,
   "id": "06cfaaf9",
   "metadata": {},
   "outputs": [],
   "source": [
    "n4 = \"\""
   ]
  },
  {
   "cell_type": "code",
   "execution_count": 67,
   "id": "6ada2f6b",
   "metadata": {},
   "outputs": [
    {
     "name": "stdout",
     "output_type": "stream",
     "text": [
      "0\n",
      "1\n",
      "2\n",
      "2\n",
      "0\n",
      "1\n",
      "2\n",
      "2\n",
      "0\n",
      "0\n",
      "1\n",
      "2\n",
      "0\n",
      "0\n",
      "1\n",
      "2\n",
      "0\n",
      "0\n",
      "1\n",
      "2\n",
      "2\n",
      "0\n",
      "1\n",
      "2\n",
      "2\n",
      "0\n",
      "0\n",
      "1\n",
      "2\n",
      "0\n",
      "0\n",
      "1\n",
      "2\n",
      "0\n",
      "0\n",
      "1\n",
      "2\n",
      "2\n",
      "0\n",
      "1\n",
      "2\n",
      "2\n",
      "0\n",
      "1\n",
      "2\n",
      "2\n",
      "0\n",
      "0\n",
      "1\n",
      "2\n",
      "0\n",
      "0\n",
      "1\n",
      "2\n",
      "2\n",
      "0\n",
      "1\n",
      "2\n",
      "2\n",
      "0\n",
      "1\n",
      "2\n",
      "2\n",
      "0\n",
      "0\n",
      "1\n",
      "2\n",
      "0\n",
      "0\n",
      "1\n",
      "2\n",
      "2\n"
     ]
    }
   ],
   "source": [
    "for char in range(len(n3)):\n",
    "    if n3[char] == \"1\":\n",
    "        print(1)\n",
    "        n4 = n4 + \"02\"\n",
    "    elif n3[char] == \"0\":\n",
    "        n4 = n4 + \"21\"\n",
    "        print(0)\n",
    "    else:\n",
    "        n4 = n4 + \"10\"\n",
    "        print(2)"
   ]
  },
  {
   "cell_type": "code",
   "execution_count": null,
   "id": "21d1d5d5",
   "metadata": {},
   "outputs": [],
   "source": []
  },
  {
   "cell_type": "code",
   "execution_count": 73,
   "id": "578d101c",
   "metadata": {},
   "outputs": [],
   "source": [
    "y_list = [0, 0]\n",
    "x_list = [0, 1]\n",
    "\n",
    "x = 1\n",
    "y = 0\n",
    "\n",
    "rotation = 0\n",
    "rotation_list = [\"a\", \"b\", \"c\", \"d\"]\n",
    "\n",
    "for char in range(len(n3)):\n",
    "    if n3[char] == \"0\":\n",
    "        x,y = vector_add(rotation_list[rotation], x, y)\n",
    "        x_list.append(x)\n",
    "        y_list.append(y)\n",
    "        \n",
    "    elif n3[char] == \"1\":\n",
    "        rotation = (rotation + 1)%4\n",
    "        x,y = vector_add(rotation_list[rotation], x, y)\n",
    "        x_list.append(x)\n",
    "        y_list.append(y)\n",
    "        \n",
    "    else:\n",
    "        rotation = (rotation - 1)%4\n",
    "        x,y = vector_add(rotation_list[rotation], x, y)\n",
    "        x_list.append(x)\n",
    "        y_list.append(y)\n"
   ]
  },
  {
   "cell_type": "code",
   "execution_count": 74,
   "id": "3ab88692",
   "metadata": {},
   "outputs": [
    {
     "data": {
      "text/plain": [
       "[<matplotlib.lines.Line2D at 0x131ffcb9cd0>]"
      ]
     },
     "execution_count": 74,
     "metadata": {},
     "output_type": "execute_result"
    }
   ],
   "source": [
    "plt.plot(x_list, y_list)"
   ]
  },
  {
   "cell_type": "code",
   "execution_count": null,
   "id": "fc31bf0c",
   "metadata": {},
   "outputs": [],
   "source": []
  }
 ],
 "metadata": {
  "kernelspec": {
   "display_name": "Python 3",
   "language": "python",
   "name": "python3"
  },
  "language_info": {
   "codemirror_mode": {
    "name": "ipython",
    "version": 3
   },
   "file_extension": ".py",
   "mimetype": "text/x-python",
   "name": "python",
   "nbconvert_exporter": "python",
   "pygments_lexer": "ipython3",
   "version": "3.8.8"
  }
 },
 "nbformat": 4,
 "nbformat_minor": 5
}
