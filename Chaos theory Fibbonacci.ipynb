{
 "cells": [
  {
   "cell_type": "code",
   "execution_count": 1,
   "id": "954b618c",
   "metadata": {},
   "outputs": [],
   "source": [
    "import numpy as np\n",
    "import matplotlib.pyplot as plt\n",
    "import math\n",
    "import turtle\n",
    "%matplotlib qt"
   ]
  },
  {
   "cell_type": "code",
   "execution_count": 2,
   "id": "a6edc7c6",
   "metadata": {},
   "outputs": [],
   "source": [
    "\n",
    "def sequence(num):\n",
    "    s1 = str(1)\n",
    "    s2 = str(0)\n",
    "    for char in range(num-2):\n",
    "        s3 = s2 + s1\n",
    "        s1 = s2\n",
    "        s2 = s3\n",
    "    return s3\n",
    "    "
   ]
  },
  {
   "cell_type": "code",
   "execution_count": 3,
   "id": "d32e1a5a",
   "metadata": {},
   "outputs": [],
   "source": [
    "def vector_add(rotation, x, y):\n",
    "    if rotation == \"a\":\n",
    "        y = y\n",
    "        x = x+1\n",
    "    elif rotation == \"b\":\n",
    "        y = y+1\n",
    "        x = x\n",
    "    elif rotation == \"c\":\n",
    "        y = y\n",
    "        x = x-1\n",
    "    else:\n",
    "        y = y-1\n",
    "        x = x\n",
    "    return x,y"
   ]
  },
  {
   "cell_type": "code",
   "execution_count": 23,
   "id": "dea1b001",
   "metadata": {},
   "outputs": [],
   "source": [
    "s = sequence(35)"
   ]
  },
  {
   "cell_type": "code",
   "execution_count": 24,
   "id": "8f54a5fa",
   "metadata": {},
   "outputs": [
    {
     "data": {
      "text/plain": [
       "'\\n         b\\n        \\n        \\nc               a\\n\\n        d\\n'"
      ]
     },
     "execution_count": 24,
     "metadata": {},
     "output_type": "execute_result"
    }
   ],
   "source": [
    "y_list = [0, 0]\n",
    "x_list = [0, 1]\n",
    "x = 1\n",
    "y = 0\n",
    "rotation = 0\n",
    "rotation_list = [\"a\", \"b\", \"c\", \"d\"]\n",
    "for char in range(len(s)):\n",
    "    if s[char] == \"0\":\n",
    "        if (char+1)%2 == 0:\n",
    "            rotation = (rotation  + 1)%4\n",
    "            x,y = vector_add(rotation_list[rotation], x, y)\n",
    "            x_list.append(x)\n",
    "            y_list.append(y)\n",
    "        elif (char+1)%2 != 0:\n",
    "            rotation = (rotation - 1)%4\n",
    "            x,y = vector_add(rotation_list[rotation], x, y)\n",
    "            x_list.append(x)\n",
    "            y_list.append(y)\n",
    "    else:\n",
    "        x,y = vector_add(rotation_list[rotation], x, y)\n",
    "        x_list.append(x)\n",
    "        y_list.append(y)\n",
    "        \n",
    "        \n",
    "\"\"\"\n",
    "         b\n",
    "        \n",
    "        \n",
    "c               a\n",
    "\n",
    "        d\n",
    "\"\"\""
   ]
  },
  {
   "cell_type": "code",
   "execution_count": 26,
   "id": "55bfeedd",
   "metadata": {},
   "outputs": [
    {
     "data": {
      "text/plain": [
       "[<matplotlib.lines.Line2D at 0x131adfc6160>]"
      ]
     },
     "execution_count": 26,
     "metadata": {},
     "output_type": "execute_result"
    }
   ],
   "source": [
    "plt.plot(x_list, y_list)"
   ]
  },
  {
   "cell_type": "code",
   "execution_count": 14,
   "id": "396e6008",
   "metadata": {},
   "outputs": [
    {
     "data": {
      "text/plain": [
       "0"
      ]
     },
     "execution_count": 14,
     "metadata": {},
     "output_type": "execute_result"
    }
   ],
   "source": [
    "3%1"
   ]
  }
 ],
 "metadata": {
  "kernelspec": {
   "display_name": "Python 3",
   "language": "python",
   "name": "python3"
  },
  "language_info": {
   "codemirror_mode": {
    "name": "ipython",
    "version": 3
   },
   "file_extension": ".py",
   "mimetype": "text/x-python",
   "name": "python",
   "nbconvert_exporter": "python",
   "pygments_lexer": "ipython3",
   "version": "3.8.8"
  }
 },
 "nbformat": 4,
 "nbformat_minor": 5
}
