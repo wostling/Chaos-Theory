{
 "cells": [
  {
   "cell_type": "code",
   "execution_count": 1,
   "id": "9d5d9d99",
   "metadata": {},
   "outputs": [],
   "source": [
    "import pandas as pd\n",
    "import matplotlib.pyplot as plt\n",
    "import numpy as np\n",
    "#opens graph in a new window\n",
    "%matplotlib qt "
   ]
  },
  {
   "cell_type": "code",
   "execution_count": 2,
   "id": "5d1233d1",
   "metadata": {},
   "outputs": [],
   "source": [
    "def function(x):\n",
    "    return 2*abs(x)-2"
   ]
  },
  {
   "cell_type": "code",
   "execution_count": 3,
   "id": "e884c6d0",
   "metadata": {},
   "outputs": [],
   "source": [
    "def iterator(seed, iteration):\n",
    "    listx = []\n",
    "    num_list = []\n",
    "    seed=seed\n",
    "    for char in range(iteration):\n",
    "        listx.append(seed)\n",
    "        num_list.append(char)\n",
    "        seed = function(seed)\n",
    "    plt.plot(num_list,listx)\n",
    "    "
   ]
  },
  {
   "cell_type": "code",
   "execution_count": 4,
   "id": "e7120ec0",
   "metadata": {},
   "outputs": [],
   "source": [
    "iterator(2,10)"
   ]
  },
  {
   "cell_type": "code",
   "execution_count": null,
   "id": "f95302b8",
   "metadata": {},
   "outputs": [],
   "source": [
    "#graph cobweb setup"
   ]
  },
  {
   "cell_type": "code",
   "execution_count": 15,
   "id": "3f519a78",
   "metadata": {},
   "outputs": [],
   "source": [
    "def cobweb(x0, N):\n",
    "    x= np.linspace(-2,2,1000)\n",
    "    plt.plot(x, x, \"k:\")\n",
    "    yval = function(x)\n",
    "    plt.plot(x,yval)\n",
    "    x,y = x0, function(x0)\n",
    "    for _ in range(N):\n",
    "        fy = function(y)        \n",
    "        plt.plot([x, y], [y,  y], 'b', linewidth=1)\n",
    "        plt.plot([y, y], [y, fy], 'b', linewidth=1)\n",
    "        x, y = y, fy\n",
    "    plt.show()"
   ]
  },
  {
   "cell_type": "code",
   "execution_count": 20,
   "id": "447b063f",
   "metadata": {},
   "outputs": [],
   "source": [
    "cobweb(np.sqrt(2),10000)"
   ]
  }
 ],
 "metadata": {
  "kernelspec": {
   "display_name": "Python 3",
   "language": "python",
   "name": "python3"
  },
  "language_info": {
   "codemirror_mode": {
    "name": "ipython",
    "version": 3
   },
   "file_extension": ".py",
   "mimetype": "text/x-python",
   "name": "python",
   "nbconvert_exporter": "python",
   "pygments_lexer": "ipython3",
   "version": "3.8.8"
  }
 },
 "nbformat": 4,
 "nbformat_minor": 5
}
